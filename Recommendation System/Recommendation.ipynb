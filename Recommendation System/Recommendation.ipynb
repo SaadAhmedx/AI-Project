{
 "cells": [
  {
   "cell_type": "code",
   "execution_count": 5,
   "metadata": {},
   "outputs": [
    {
     "name": "stdout",
     "output_type": "stream",
     "text": [
      "Recommending 5 products similar to \"Baby sunshade top\"\n",
      "\n",
      "Recommended: Sunshade hoody [ Score: 0.2133029602108501 ]\n",
      "Recommended: Baby baggies apron dress [ Score: 0.10975311296284813 ]\n",
      "Recommended: Runshade t-shirt [ Score: 0.09988151262780706 ]\n",
      "Recommended: Runshade t-shirt [ Score: 0.09530698241688194 ]\n",
      "Recommended: Runshade top [ Score: 0.08510550093018401 ]\n"
     ]
    }
   ],
   "source": [
    "\"\"\" Content Based Recommendation System \"\"\"\n",
    "\n",
    "import pandas as pd\n",
    "from sklearn.feature_extraction.text import TfidfVectorizer\n",
    "from sklearn.metrics.pairwise import linear_kernel\n",
    "\n",
    "ds = pd.read_csv(\"data.csv\")\n",
    "\n",
    "tf = TfidfVectorizer(analyzer='word', ngram_range=(1, 3), min_df=0, stop_words='english')\n",
    "tfidf_matrix = tf.fit_transform(ds['description'])\n",
    "\n",
    "cosine_similarities = linear_kernel(tfidf_matrix, tfidf_matrix)\n",
    "\n",
    "results = {}\n",
    "\n",
    "for idx, row in ds.iterrows():\n",
    "    similar_indices = cosine_similarities[idx].argsort()[:-100:-1]\n",
    "    similar_items = [(cosine_similarities[idx][i], ds['id'][i]) for i in similar_indices]\n",
    "\n",
    "    results[row['id']] = similar_items[1:]\n",
    "\n",
    "\n",
    "def item(id):\n",
    "    return ds.loc[ds['id'] == id]['description'].tolist()[0].split(' - ')[0]\n",
    "\n",
    "def recommend(item_id, num):\n",
    "    print(\"Recommending {} products similar to \\\"{}\\\"\\n\".format(str(num), item(item_id)))\n",
    "    recs = results[item_id][:num]\n",
    "    for rec in recs:\n",
    "        print(\"Recommended: {} [ Score: {} ]\".format(item(rec[1]), str(rec[0])))\n",
    "\n",
    "recommend(item_id=11, num=5)"
   ]
  },
  {
   "cell_type": "code",
   "execution_count": null,
   "metadata": {},
   "outputs": [],
   "source": []
  }
 ],
 "metadata": {
  "kernelspec": {
   "display_name": "Python 3",
   "language": "python",
   "name": "python3"
  },
  "language_info": {
   "codemirror_mode": {
    "name": "ipython",
    "version": 3
   },
   "file_extension": ".py",
   "mimetype": "text/x-python",
   "name": "python",
   "nbconvert_exporter": "python",
   "pygments_lexer": "ipython3",
   "version": "3.6.5"
  }
 },
 "nbformat": 4,
 "nbformat_minor": 2
}
